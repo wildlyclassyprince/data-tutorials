{
 "cells": [
  {
   "cell_type": "markdown",
   "metadata": {},
   "source": [
    "# Optimal Stopping\n",
    "\n",
    "How do you make a choice from a barage of options?\n",
    "\n",
    "*\n",
    "\n",
    "## The Explanation: Mathematics\n",
    "\n",
    "**Probability Space**\n",
    "Let:\n",
    "\n",
    "> $k = $ stoppping point.\n",
    "> $n = $ optimal position.\n",
    "> $s = $ selection as the optimal option.\n",
    "> $P(k) = $ probability of success.\n",
    "> $P(n) = $ probability of being in the optimal position $n$.\n",
    "> $P(s) = $ probability of being selected in position $n$.\n",
    "\n",
    "**Probability of Success**\n",
    "\n",
    "$P(k) = \\sum^{}_{N}P(n)P(s)$\n",
    "\n",
    "Given a list of options, $0, 1, 2, ... k | k+1, k+2, ... N$, where $0 - k$ are the options to discard after reaching the stopping point, while options $k+1$ and beyond are the options of consideration. From this, we have the following cases:\n",
    "\n",
    "**Case 1: $n \\leq k$**\n",
    "\n",
    "$P(n) = \\frac{1}{N}$, $P(s) = 0$.\n",
    "\n",
    "That is, the probability of being in the optimal position is a fraction of the total number of items under consideration. However the probability of being selected is $0$ because we discard all options before we reach the stopping point.\n",
    "\n",
    "**Case 2: $n = k+1$**\n",
    "\n",
    "$P(n) = \\frac{1}{N}$, $P(s) = 1$.\n",
    "\n",
    "That is, the probability of being in the optimal position is still a fraction of the total number of items under consideration. But the probability of being selected is $1$ since we are now considering the first item after the stopping point. It is better than all the options before the stopping position, then we will definitely pick it.\n",
    "\n",
    "**Case 3: $n > k+1$**\n",
    "\n",
    "$P(n) = \\frac{1}{N}$, $P(s) = 1 - P(s^{'}) = 1 - \\frac{1}{k+1} = \\frac{k}{k+1}$.\n",
    "\n",
    "So, the probability of being in the optimal position does not change. The probability of being selected is given by the difference between the size of the total probability space, $1$, and probability of not being selected, $P(s^{'})$.\n",
    "\n",
    "\n",
    "## The Explanation: English\n",
    "\n",
    "*"
   ]
  }
 ],
 "metadata": {
  "kernelspec": {
   "display_name": "Python 3",
   "language": "python",
   "name": "python3"
  },
  "language_info": {
   "codemirror_mode": {
    "name": "ipython",
    "version": 3
   },
   "file_extension": ".py",
   "mimetype": "text/x-python",
   "name": "python",
   "nbconvert_exporter": "python",
   "pygments_lexer": "ipython3",
   "version": "3.7.0"
  },
  "toc": {
   "base_numbering": 1,
   "nav_menu": {},
   "number_sections": false,
   "sideBar": false,
   "skip_h1_title": false,
   "title_cell": "Table of Contents",
   "title_sidebar": "Contents",
   "toc_cell": false,
   "toc_position": {},
   "toc_section_display": false,
   "toc_window_display": false
  }
 },
 "nbformat": 4,
 "nbformat_minor": 2
}

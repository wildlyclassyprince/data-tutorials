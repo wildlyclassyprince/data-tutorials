{
 "cells": [
  {
   "cell_type": "markdown",
   "metadata": {},
   "source": [
    "# Optimal Stopping\n",
    "\n",
    "How do you make a choice from a barage of options?\n",
    "\n",
    "***\n",
    "\n",
    "## The Explanation: Mathematics\n",
    "\n",
    "**Probability Space**\n",
    "\n",
    "Let:\n",
    "\n",
    "> $k = $ stoppping point.\n",
    "\n",
    "> $n = $ optimal position.\n",
    "\n",
    "> $s = $ selection as the optimal option.\n",
    "\n",
    "> $P(k) = $ probability of success.\n",
    "\n",
    "> $P(n) = $ probability of being in the optimal position $n$.\n",
    "\n",
    "> $P(s) = $ probability of being selected in position $n$.\n",
    "\n",
    "**Probability of Success**\n",
    "\n",
    "$P(k) = \\sum^{}_{N}P(n)P(s)$\n",
    "\n",
    "Given a list of options, $0, 1, 2, ... k | k+1, k+2, ... N$, where $0 - k$ are the options to discard after reaching the stopping point, while options $k+1$ and beyond are the options of consideration. From this, we have the following cases:\n",
    "\n",
    "**Case 1: $n \\leq k$**\n",
    "\n",
    "$P(n) = \\frac{1}{N}$, $P(s) = 0$.\n",
    "\n",
    "That is, the probability of being in the optimal position is a fraction of the total number of items under consideration. However the probability of being selected is $0$ because we discard all options before we reach the stopping point.\n",
    "\n",
    "**Case 2: $n = k+1$**\n",
    "\n",
    "$P(n) = \\frac{1}{N}$, $P(s) = 1$.\n",
    "\n",
    "That is, the probability of being in the optimal position is still a fraction of the total number of items under consideration. But the probability of being selected is $1$ since we are now considering the first item after the stopping point. It is better than all the options before the stopping position, then we will definitely pick it.\n",
    "\n",
    "**Case 3: $n > k+1$**\n",
    "\n",
    "$P(n) = \\frac{1}{N}$, $P(s) = 1 - P(s^{'}) = 1 - \\frac{1}{k+1} = \\frac{k}{k+1}$.\n",
    "\n",
    "So, the probability of being in the optimal position does not change. The probability of being selected is given by the difference between the size of the total probability space, $1$, and probability of not being selected, $P(s^{'})$.\n",
    "\n",
    "$\\Rightarrow P(k) = (\\frac{1}{N} . 0) + (\\frac{1}{N} . 1) + (\\frac{1}{N} . \\frac{k}{k+1}) + (\\frac{1}{N} . \\frac{k}{k+2}) + ... + (\\frac{1}{N} . \\frac{k}{N-1})$\n",
    "\n",
    "$\\Rightarrow P(k) = \\frac{k}{N} (\\frac{1}{k} + \\frac{1}{k+1} + \\frac{1}{k+2} + ... + \\frac{1}{N-1})$\n",
    "\n",
    "But $\\frac{1}{k} + \\frac{1}{k+1} + \\frac{1}{k+2} + ... + \\frac{1}{N-1} \\approx \\frac{1}{x}$, and to get the approximation of $\\frac{1}{x}$ we sum the area under the curve.\n",
    "\n",
    "$\\therefore \\int^{N}_{k} \\frac{1}{x} dx = [ln(x)]^{N}_{k} = ln(N) - ln(k) = ln(\\frac{N}{k})$\n",
    "\n",
    "$\\Rightarrow P(k) \\approx \\frac{k}{N} ln(\\frac{N}{k})$\n",
    "\n",
    "Let $x = \\frac{k}{N} : P(x) \\approx x ln(\\frac{1}{x}) = - xln(x)$\n",
    "\n",
    "To obtain the optimal position, we can find the maximum value of $P(x)$\n",
    "\n",
    "$\\Rightarrow P^{'}(x) = -ln(x) - x(\\frac{1}{x}) = -ln(x) - 1$\n",
    "\n",
    "Optimal solution is obtained when $P^{'}(x) = 0$\n",
    "\n",
    "$\\Rightarrow 0 = -ln(x) - 1 \\Rightarrow ln(x) = -1 \\Rightarrow x = e^{-1} = \\frac{1}{e} \\approx 0.368 \\approx 37\\%$\n",
    "\n",
    "But $x = \\frac{k}{N}$ so $\\frac{k}{N} = e^{-1} = \\frac{1}{e} \\approx 37\\%$.\n",
    "\n",
    "$\\therefore$ we have to reject the first $37\\%$ of option items before we start considering the options that may potentially have the best solution.\n",
    "\n",
    "***\n",
    "\n",
    "## The Explanation: English\n",
    "\n",
    "***\n",
    "\n",
    "## Implementation: Stopping Number"
   ]
  },
  {
   "cell_type": "code",
   "execution_count": 1,
   "metadata": {},
   "outputs": [],
   "source": [
    "# Imports\n",
    "from math import exp"
   ]
  },
  {
   "cell_type": "code",
   "execution_count": 2,
   "metadata": {},
   "outputs": [],
   "source": [
    "# Stopping number function\n",
    "def stopping_number(N):\n",
    "    '''\n",
    "    Determines the number of items to reject before considering options\n",
    "    that may be viable given the total number of option items.\n",
    "    '''\n",
    "    return round(N * exp(-1))"
   ]
  },
  {
   "cell_type": "code",
   "execution_count": 3,
   "metadata": {},
   "outputs": [
    {
     "name": "stdout",
     "output_type": "stream",
     "text": [
      "Number of options: 5\tStopping number: 2\n",
      "Number of options: 10\tStopping number: 4\n",
      "Number of options: 15\tStopping number: 6\n",
      "Number of options: 20\tStopping number: 7\n",
      "Number of options: 25\tStopping number: 9\n",
      "Number of options: 30\tStopping number: 11\n",
      "Number of options: 35\tStopping number: 13\n",
      "Number of options: 40\tStopping number: 15\n",
      "Number of options: 45\tStopping number: 17\n",
      "Number of options: 50\tStopping number: 18\n"
     ]
    }
   ],
   "source": [
    "for i in range(5, 51, 5):\n",
    "    print('Number of options: {}\\tStopping number: {}'.format(i, stopping_number(i)))"
   ]
  }
 ],
 "metadata": {
  "kernelspec": {
   "display_name": "Python 3",
   "language": "python",
   "name": "python3"
  },
  "language_info": {
   "codemirror_mode": {
    "name": "ipython",
    "version": 3
   },
   "file_extension": ".py",
   "mimetype": "text/x-python",
   "name": "python",
   "nbconvert_exporter": "python",
   "pygments_lexer": "ipython3",
   "version": "3.7.0"
  },
  "toc": {
   "base_numbering": 1,
   "nav_menu": {},
   "number_sections": false,
   "sideBar": false,
   "skip_h1_title": false,
   "title_cell": "Table of Contents",
   "title_sidebar": "Contents",
   "toc_cell": false,
   "toc_position": {},
   "toc_section_display": false,
   "toc_window_display": false
  }
 },
 "nbformat": 4,
 "nbformat_minor": 2
}

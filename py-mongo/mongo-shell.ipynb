{
 "cells": [
  {
   "cell_type": "markdown",
   "metadata": {},
   "source": [
    "# MongoDB Shell\n",
    "\n",
    "The `mongo` shell is an interactive JavaScript interface to MongoDB. You can use the `mongo` shell to query and update data as well as perform administrative operations. The shell is particularly helpful when we want to verify some information about our database.\n",
    "\n",
    "Before we start using the `mongo` shell, we need to verify if MongoDB is running. On Linux we can do this by typing:\n",
    "\n",
    "```bash\n",
    "sudo service mongodb status\n",
    "```\n",
    "\n",
    "To start a local instance of the `mongo` shell:\n",
    "\n",
    "```bash\n",
    "mongo\n",
    "```\n",
    "\n",
    "If the local instance is running on a non-default port, we run the following:\n",
    "\n",
    "```bash\n",
    "mongo --port <port number>\n",
    "```\n",
    "\n",
    "To list the databases on the host:\n",
    "\n",
    "```bash\n",
    "show databases\n",
    "```\n",
    "\n",
    "To show the name of the database we are currently using:\n",
    "\n",
    "```bash\n",
    "db\n",
    "```\n",
    "\n",
    "To change to another database:\n",
    "\n",
    "```bash\n",
    "use <database name>\n",
    "```\n",
    "\n",
    "We can also perform queries on databases and update entries from the `mongo` shell. For example, to print the top 20 entries:\n",
    "\n",
    "```bash\n",
    "db.<database name>.find().pretty()\n",
    "```"
   ]
  }
 ],
 "metadata": {
  "kernelspec": {
   "display_name": "Python 3",
   "language": "python",
   "name": "python3"
  },
  "language_info": {
   "codemirror_mode": {
    "name": "ipython",
    "version": 3
   },
   "file_extension": ".py",
   "mimetype": "text/x-python",
   "name": "python",
   "nbconvert_exporter": "python",
   "pygments_lexer": "ipython3",
   "version": "3.7.0"
  },
  "toc": {
   "base_numbering": 1,
   "nav_menu": {},
   "number_sections": false,
   "sideBar": false,
   "skip_h1_title": false,
   "title_cell": "Table of Contents",
   "title_sidebar": "Contents",
   "toc_cell": false,
   "toc_position": {},
   "toc_section_display": false,
   "toc_window_display": false
  }
 },
 "nbformat": 4,
 "nbformat_minor": 2
}
